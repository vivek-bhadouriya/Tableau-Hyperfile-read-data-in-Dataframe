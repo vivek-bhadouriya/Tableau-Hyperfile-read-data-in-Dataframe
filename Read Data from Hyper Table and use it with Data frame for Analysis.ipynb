{
 "cells": [
  {
   "cell_type": "code",
   "execution_count": null,
   "metadata": {},
   "outputs": [],
   "source": [
    "import tableauserverclient as TSC\n",
    "from tableauhyperapi import HyperProcess, Telemetry, \\\n",
    "    Connection, CreateMode, \\\n",
    "    NOT_NULLABLE, NULLABLE, SqlType, TableDefinition, \\\n",
    "    Inserter, \\\n",
    "    escape_name, escape_string_literal, \\\n",
    "    HyperException,TableName\n",
    "\n",
    "from pathlib import Path\n",
    "from tableau_api_lib import TableauServerConnection\n",
    "from tableau_api_lib.utils.querying import get_projects_dataframe\n",
    "import pandas as pd"
   ]
  },
  {
   "cell_type": "code",
   "execution_count": null,
   "metadata": {},
   "outputs": [],
   "source": [
    "# Login to Tableau Online and open a session\n",
    "tableau_server_config = {\n",
    "        'my_env': {\n",
    "                'server': 'https://10ax.online.tableau.com',\n",
    "                'api_version': '3.12',\n",
    "                'personal_access_token_name':'vivek',\n",
    "                'personal_access_token_secret':'',\n",
    "                'site_name': '',\n",
    "                'site_url': ''\n",
    "        }\n",
    "}\n",
    "conn = TableauServerConnection(tableau_server_config, env='my_env')\n",
    "conn.sign_in()"
   ]
  },
  {
   "cell_type": "code",
   "execution_count": null,
   "metadata": {},
   "outputs": [],
   "source": [
    "with HyperProcess(telemetry=Telemetry.SEND_USAGE_DATA_TO_TABLEAU ) as hyper:\n",
    "\n",
    "#  Connect to an existing .hyper file (CreateMode.NONE)\n",
    "    with Connection(endpoint=hyper.endpoint, database='Covid.hyper') as connection:\n",
    "        table_names = connection.catalog.get_table_names(schema=\"Extract\")\n",
    "         #connection.query_method(query=\"query_string\")\n",
    "        for table in table_names:\n",
    "                table_definition = connection.catalog.get_table_definition(name=table)\n",
    "                print(f\"Table {table.name} has qualified name: {table}\")\n",
    "                # Print Column Type\n",
    "                for column in table_definition.columns:\n",
    "                    print(f\"Column {column.name} has type={column.type} and nullability={column.nullability}\")\n",
    "                print(\"\")\n",
    "        # Print all rows from the \"Extract\".\"Extract\" table.\n",
    "        table_name = TableName(\"Extract\", \"Extract\")\n",
    "        print(f\"These are all rows in the table {table_name}:\")\n",
    "        # Get data from hyper file\n",
    "        rows_in_table = connection.execute_list_query(query=f\"SELECT * FROM {table_name}\")\n",
    "        # Create Data frame and use for further Analysis\n",
    "        df=pd.DataFrame(rows_in_table)\n",
    "        print(rows_in_table)\n",
    "        print(\"The connection to the Hyper file has been closed.\")\n",
    "    print(\"The Hyper process has been shut down.\")\n",
    "conn.sign_out()"
   ]
  },
  {
   "cell_type": "code",
   "execution_count": null,
   "metadata": {},
   "outputs": [],
   "source": [
    "df.head()\n",
    "df.sort_values(4,ascending=False)"
   ]
  },
  {
   "cell_type": "code",
   "execution_count": null,
   "metadata": {},
   "outputs": [],
   "source": [
    "# Assign column names\n",
    "for col in df.columns:\n",
    "    print(col)\n",
    "df.columns=[\"S. No.\",\"Name of State UT\",\"Active Cases\",\"Cured_Discharged_Migrated\",\"Deaths\",\"Total Confirmed cases\"]"
   ]
  },
  {
   "cell_type": "code",
   "execution_count": null,
   "metadata": {},
   "outputs": [],
   "source": []
  }
 ],
 "metadata": {
  "kernelspec": {
   "display_name": "Python 3",
   "language": "python",
   "name": "python3"
  },
  "language_info": {
   "codemirror_mode": {
    "name": "ipython",
    "version": 3
   },
   "file_extension": ".py",
   "mimetype": "text/x-python",
   "name": "python",
   "nbconvert_exporter": "python",
   "pygments_lexer": "ipython3",
   "version": "3.7.6"
  }
 },
 "nbformat": 4,
 "nbformat_minor": 4
}
